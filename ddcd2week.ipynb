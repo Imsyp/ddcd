{
  "nbformat": 4,
  "nbformat_minor": 0,
  "metadata": {
    "colab": {
      "provenance": []
    },
    "kernelspec": {
      "name": "python3",
      "display_name": "Python 3"
    },
    "language_info": {
      "name": "python"
    }
  },
  "cells": [
    {
      "cell_type": "markdown",
      "source": [
        "참고: https://school.programmers.co.kr/learn/courses/30/lessons/181911\n",
        "\n",
        "문자열의 리스트 my_strings가 다음과 같이 주어질 때,\n",
        "my_strings의 모든 요소를 이용하여 문자열 'programmers'를 만들어 출력해보자.\n",
        "\n",
        "my_strings = [\"progressive\", \"hamburger\", \"hammer\", \"ahocorasick\"]\n",
        "\n",
        "hint)\n",
        "\n",
        "new_string = my_strings[0][?] + my_strings[1][?] + my_strings[2][?] + my_strings[3][?]\n",
        "\n",
        "print(new_string)"
      ],
      "metadata": {
        "id": "l2f58emw9TtJ"
      }
    },
    {
      "cell_type": "code",
      "execution_count": 7,
      "metadata": {
        "colab": {
          "base_uri": "https://localhost:8080/"
        },
        "id": "vjJwHTUe0QEj",
        "outputId": "3a2adfa9-a51b-4753-9515-b3e3156584c7"
      },
      "outputs": [
        {
          "output_type": "stream",
          "name": "stdout",
          "text": [
            "programmers\n"
          ]
        }
      ],
      "source": [
        "my_strings = [\"progressive\", \"hamburger\", \"hammer\", \"ahocorasick\"]\n",
        "new_string = my_strings[0][:5] + my_strings[1][1:3] + my_strings[2][3:] + my_strings[3][7]\n",
        "print(new_string)"
      ]
    },
    {
      "cell_type": "markdown",
      "source": [
        "참고: https://billnairk.tistory.com/95\n",
        "\n",
        "a = \"a:b:c:d\"인 문자열 a가 주어질 때, replace 함수를 이용하여 :를 공백으로 바꿔서(\"abcd\") 출력해보자.\n",
        "\n",
        "hint)\n",
        "\n",
        "a.replace('a', 'A')\n",
        "\n",
        "->> a = \"A:b:c:d\""
      ],
      "metadata": {
        "id": "t1uf9WNX9SsS"
      }
    },
    {
      "cell_type": "code",
      "source": [
        "a = \"a:b:c:d\"\n",
        "print(a.replace(\":\", \"\"))"
      ],
      "metadata": {
        "colab": {
          "base_uri": "https://localhost:8080/"
        },
        "id": "pMb5-YpQ0Xbl",
        "outputId": "21af873e-04df-493c-a8cf-e847c3157dd2"
      },
      "execution_count": 10,
      "outputs": [
        {
          "output_type": "stream",
          "name": "stdout",
          "text": [
            "abcd\n"
          ]
        }
      ]
    }
  ]
}