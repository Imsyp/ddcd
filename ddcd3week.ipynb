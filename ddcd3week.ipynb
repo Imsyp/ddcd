{
  "nbformat": 4,
  "nbformat_minor": 0,
  "metadata": {
    "colab": {
      "provenance": []
    },
    "kernelspec": {
      "name": "python3",
      "display_name": "Python 3"
    },
    "language_info": {
      "name": "python"
    }
  },
  "cells": [
    {
      "cell_type": "markdown",
      "source": [
        "머쓱이네 옷가게는 10만 원 이상 사면 5%, 30만 원 이상 사면 10%, 50만 원 이상 사면 20%를 할인해준다.\n",
        "\n",
        "\n",
        "구매한 옷의 가격 price를 입력 받고, 지불해야 할 금액을 출력하시오."
      ],
      "metadata": {
        "id": "tzjCPLecbq6l"
      }
    },
    {
      "cell_type": "code",
      "source": [],
      "metadata": {
        "colab": {
          "base_uri": "https://localhost:8080/"
        },
        "id": "uXGf-H_2b3Yg",
        "outputId": "e5d2509a-1493-4f5a-c13b-82d2a84e8c99"
      },
      "execution_count": 8,
      "outputs": [
        {
          "output_type": "stream",
          "name": "stdout",
          "text": [
            "500000\n",
            "400000.0\n"
          ]
        }
      ]
    },
    {
      "cell_type": "markdown",
      "source": [
        "주먹이 0, 가위가 1, 보가 2라고 했을 때, 컴퓨터와 가위바위보를 하는 프로그램을 구현해보시오.\n"
      ],
      "metadata": {
        "id": "Q3QVPCpDid4Y"
      }
    },
    {
      "cell_type": "code",
      "execution_count": null,
      "metadata": {
        "id": "BgGR-r4lWx0v"
      },
      "outputs": [],
      "source": [
        "import random\n",
        "\n",
        "ROCK = 0\n",
        "SCISSORS = 1\n",
        "PAPER = 2\n",
        "\n",
        "com = int(random.random()*10)%3 #변수 com은 0, 1, 2 중 하나\n",
        "me = int(input('0:주먹, 1:가위, 2:보 \\n'))\n",
        "\n",
        "\"\"\"\n",
        "코드 작성\n",
        "\"\"\""
      ]
    },
    {
      "cell_type": "markdown",
      "source": [
        "문제1 답안"
      ],
      "metadata": {
        "id": "eL8YpLL-ir2l"
      }
    },
    {
      "cell_type": "code",
      "source": [
        "price = int(input())\n",
        "\n",
        "if(price >= 500000):\n",
        "  price *= 0.80\n",
        "elif(price >= 300000):\n",
        "  price *= 0.90\n",
        "elif(price >= 100000):\n",
        "  price *= 0.95\n",
        "\n",
        "print(price)"
      ],
      "metadata": {
        "id": "kLJuNfhTitUo"
      },
      "execution_count": null,
      "outputs": []
    },
    {
      "cell_type": "markdown",
      "source": [
        "문제2 답안"
      ],
      "metadata": {
        "id": "XFrQoFWwivB5"
      }
    },
    {
      "cell_type": "code",
      "source": [
        "import random\n",
        "\n",
        "ROCK = 0\n",
        "SCISSORS = 1\n",
        "PAPER = 2\n",
        "\n",
        "com = int(random.random()*10)%3\n",
        "me = int(input('0:주먹, 1:가위, 2:보 \\n'))\n",
        "\n",
        "if com == me: print(\"비겼습니다.\")\n",
        "elif com == SCISSORS:\n",
        "    if me == PAPER: print(\"컴퓨터가 이겼습니다.\")\n",
        "    else: print(\"내가 이겼습니다.\")\n",
        "elif com == PAPER:\n",
        "    if me == ROCK: print(\"컴퓨터가 이겼습니다.\")\n",
        "    else: print(\"내가 이겼습니다.\")\n",
        "else:\n",
        "    if me == SCISSORS: print(\"컴퓨터가 이겼습니다.\")\n",
        "    else: print(\"내가 이겼습니다.\")"
      ],
      "metadata": {
        "id": "Yab9qVGIiwSY"
      },
      "execution_count": null,
      "outputs": []
    }
  ]
}