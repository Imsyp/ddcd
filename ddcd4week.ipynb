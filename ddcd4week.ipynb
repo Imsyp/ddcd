{
  "nbformat": 4,
  "nbformat_minor": 0,
  "metadata": {
    "colab": {
      "provenance": []
    },
    "kernelspec": {
      "name": "python3",
      "display_name": "Python 3"
    },
    "language_info": {
      "name": "python"
    }
  },
  "cells": [
    {
      "cell_type": "markdown",
      "source": [
        "Q1. 정수가 담긴 배열 numbers가 주어질 때, 문자열 direction을 입력받고 배열 numbers의 원소를 direction방향으로 한 칸씩 회전시킨 배열을 출력하시오.\n",
        "\n",
        "![스크린샷 2023-11-16 175858.png](data:image/png;base64,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)\n",
        "\n",
        "https://school.programmers.co.kr/learn/courses/30/lessons/120844?language=python3"
      ],
      "metadata": {
        "id": "5tzz1Y3CWYpo"
      }
    },
    {
      "cell_type": "code",
      "execution_count": null,
      "metadata": {
        "id": "8FTB5zicWUjt"
      },
      "outputs": [],
      "source": [
        "numbers = [4, 455, 6, 4, -1, 45, 6]\n",
        "direction = input()\n",
        "\n",
        "\"\"\"\n",
        "코드 입력\n",
        "\"\"\""
      ]
    },
    {
      "cell_type": "markdown",
      "source": [
        "List Comprehension: 직관적으로 리스트를 생성하는 방법. 대괄호 \"[\", \"]\"로 감싸고 내부에 for문과 if 문을 사용하여 반복하며 조건에 만족하는 것만 리스트로 생성 가능\n",
        "\n",
        "->> 여러 줄을 차지할 for문을 한 줄로 줄여준다!\n",
        "\n",
        "![스크린샷 2023-11-16 183355.png](data:image/png;base64,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)\n",
        "\n",
        "조건문도 적용 가능\n",
        "\n",
        "![스크린샷 2023-11-16 183720.png](data:image/png;base64,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)\n",
        "\n",
        "중첩 반복분도 적용 가능\n",
        "\n",
        "![스크린샷 2023-11-16 184111.png](data:image/png;base64,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)\n",
        "\n",
        "\n",
        "Q2. if문과 중첩 반복문을 사용하는 List Comprehension을 이용하여 다음 형태의 배열을 완성하라. ([0, 0], [1, 1], [2, 2]가 제외됨)\n",
        "\n",
        "-> [[0, 1], [0, 2], [0, 3], [1, 0], [1, 2], [1, 3], [2, 0], [2, 1], [2, 3]]\n",
        "\n",
        "https://bio-info.tistory.com/28"
      ],
      "metadata": {
        "id": "StML6yBnXa_N"
      }
    },
    {
      "cell_type": "code",
      "source": [],
      "metadata": {
        "id": "O73ZcsqXXcDL"
      },
      "execution_count": null,
      "outputs": []
    },
    {
      "cell_type": "markdown",
      "source": [
        "문제1 답안"
      ],
      "metadata": {
        "id": "wMcdsZ3dXdIx"
      }
    },
    {
      "cell_type": "code",
      "source": [
        "numbers = [4, 455, 6, 4, -1, 45, 6]\n",
        "direction = input()\n",
        "\n",
        "answer = []\n",
        "n_size = len(numbers)\n",
        "if direction == \"right\":\n",
        "    answer.append(numbers[n_size - 1])\n",
        "    for i in range(n_size - 1):\n",
        "        answer.append(numbers[i])\n",
        "else:\n",
        "    for i in range(1, n_size):\n",
        "        answer.append(numbers[i])\n",
        "    answer.append(numbers[0])\n",
        "print(answer)"
      ],
      "metadata": {
        "colab": {
          "base_uri": "https://localhost:8080/"
        },
        "id": "p0r0dV1MXhkx",
        "outputId": "755abd9b-6858-4ccf-91e5-1f7b1079ff2c"
      },
      "execution_count": 3,
      "outputs": [
        {
          "output_type": "stream",
          "name": "stdout",
          "text": [
            "left\n",
            "[455, 6, 4, -1, 45, 6, 4]\n"
          ]
        }
      ]
    },
    {
      "cell_type": "markdown",
      "source": [
        "문제2 답안"
      ],
      "metadata": {
        "id": "Qo1SWUUNh4M7"
      }
    },
    {
      "cell_type": "code",
      "source": [
        "[[i,j] for i in range(3) for j in range(4) if i != j]"
      ],
      "metadata": {
        "colab": {
          "base_uri": "https://localhost:8080/"
        },
        "id": "6FhXWoPAedtZ",
        "outputId": "bf75914e-0e66-4d79-b050-2e38198d8067"
      },
      "execution_count": 12,
      "outputs": [
        {
          "output_type": "execute_result",
          "data": {
            "text/plain": [
              "[[0, 1], [0, 2], [0, 3], [1, 0], [1, 2], [1, 3], [2, 0], [2, 1], [2, 3]]"
            ]
          },
          "metadata": {},
          "execution_count": 12
        }
      ]
    }
  ]
}