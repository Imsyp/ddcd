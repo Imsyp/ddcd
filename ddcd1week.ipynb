{
  "nbformat": 4,
  "nbformat_minor": 0,
  "metadata": {
    "colab": {
      "provenance": []
    },
    "kernelspec": {
      "name": "python3",
      "display_name": "Python 3"
    },
    "language_info": {
      "name": "python"
    }
  },
  "cells": [
    {
      "cell_type": "markdown",
      "source": [
        "숫자 5개를 입력받아 해당 숫자들의 평균을 출력하는 프로그램을 작성해보자."
      ],
      "metadata": {
        "id": "UMZcVg9IfSkx"
      }
    },
    {
      "cell_type": "code",
      "source": [
        "num1 = int(input())\n",
        "num2 = int(input())\n",
        "num3 = int(input())\n",
        "num4 = int(input())\n",
        "num5 = int(input())\n",
        "\n",
        "\n",
        "sum = num1 + num2 + num3 + num4 + num5\n",
        "average = sum / 5\n",
        "print(average)"
      ],
      "metadata": {
        "colab": {
          "base_uri": "https://localhost:8080/"
        },
        "id": "kQ6gRbZpcAmt",
        "outputId": "80df659e-0b12-47f2-881d-ee8637e9713c"
      },
      "execution_count": 11,
      "outputs": [
        {
          "output_type": "stream",
          "name": "stdout",
          "text": [
            "1\n",
            "2\n",
            "3\n",
            "4\n",
            "5\n",
            "3.0\n"
          ]
        }
      ]
    },
    {
      "cell_type": "markdown",
      "source": [
        "다음은 두 개의 숫자를 입력받아 더하는 프로그램인데, 3과 6을 더했을 때 9가 아닌 36을 반환한다. 이 프로그램이 올바른 값을 반환하도록 수정해보자. (정수 %d, 문자열 %s, 실수 %f)\n",
        "\n",
        "word = \"World\"\n",
        "\n",
        "print(\"Hello %s\" % word)\n",
        "\n",
        "출력 결과: Hello World\n",
        "\n",
        "\n",
        "출처: https://ss-o.tistory.com/82"
      ],
      "metadata": {
        "id": "-0KeJLF9cBNT"
      }
    },
    {
      "cell_type": "code",
      "execution_count": 3,
      "metadata": {
        "colab": {
          "base_uri": "https://localhost:8080/"
        },
        "id": "Nf5mHuM9WhNK",
        "outputId": "0489b731-625e-4838-f79a-6be5a66b4c85"
      },
      "outputs": [
        {
          "output_type": "stream",
          "name": "stdout",
          "text": [
            "3\n",
            "6\n",
            "intput1 + input2 = 36\n"
          ]
        }
      ],
      "source": [
        "num1 = input()\n",
        "num2 = input()\n",
        "\n",
        "sum = num1 + num2\n",
        "print(\"intput1 + input2 = %s\" % sum)"
      ]
    },
    {
      "cell_type": "code",
      "source": [],
      "metadata": {
        "id": "5BwDBTlwY_A_"
      },
      "execution_count": null,
      "outputs": []
    }
  ]
}