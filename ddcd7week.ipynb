{
  "nbformat": 4,
  "nbformat_minor": 0,
  "metadata": {
    "colab": {
      "provenance": []
    },
    "kernelspec": {
      "name": "python3",
      "display_name": "Python 3"
    },
    "language_info": {
      "name": "python"
    }
  },
  "cells": [
    {
      "cell_type": "markdown",
      "source": [
        "# 수열\n",
        "\n",
        "### 문제 설명\n",
        "\n",
        "<p>0에서부터 9까지의 숫자로 이루어진 N개의 숫자가 나열된 수열이 있다. 그 수열 안에서 연속해서 커지거나(같은 것 포함), 혹은 연속해서 작아지는(같은 것 포함) 수열 중 가장 길이가 긴 것을 찾아내어 그 길이를 출력하는 프로그램을 작성하라. </p>\n",
        "\n",
        "<p>예를 들어 수열 1, 2, 2, 4, 4, 5, 7, 7, 2 의 경우에는 1 ≤ 2 ≤ 2 ≤ 4 ≤ 4 ≤ 5 ≤ 7 ≤ 7 이 가장 긴 구간이 되므로 그 길이 8을 출력한다. 수열 4, 1, 3, 3, 2, 2, 9, 2, 3 의 경우에는 3 ≥ 3 ≥ 2 ≥ 2 가 가장 긴 구간이 되므로 그 길이 4를 출력한다. 또 1, 5, 3, 6, 4, 7, 1, 3, 2, 9, 5 의 경우에는 연속해서 커지거나 작아지는 수열의 길이가 3 이상인 경우가 없으므로 2를 출력하여야 한다.</p>\n",
        "\n",
        "### 입력\n",
        "\n",
        " <p>첫째 줄에는 수열의 길이 N이 주어지고, 둘째 줄에는 N개의 숫자가 빈칸을 사이에 두고 주어진다. N은 1 이상 100,000 이하의 정수이다.</p>\n",
        "\n",
        "### 출력\n",
        "\n",
        " <p>첫째 줄에 가장 긴 길이를 출력한다.</p>\n",
        "\n"
      ],
      "metadata": {
        "id": "n_bUdSGxz7PY"
      }
    },
    {
      "cell_type": "code",
      "execution_count": null,
      "metadata": {
        "colab": {
          "base_uri": "https://localhost:8080/"
        },
        "id": "iRe2oKOizCjj",
        "outputId": "59807a61-1db7-42e4-b9c0-0d82f053fe2d"
      },
      "outputs": [
        {
          "output_type": "stream",
          "name": "stdout",
          "text": [
            "수열의 길이 N: 10\n",
            "1 1 1 1 1 1 1 1 9 2\n",
            "9\n"
          ]
        }
      ],
      "source": [
        "def maxLen(arr):\n",
        "  ascending = 1\n",
        "  descending = 1\n",
        "  maxLength = 1\n",
        "\n",
        "  for i in range(1, len(arr)):\n",
        "    if(arr[i] > arr[i-1]):\n",
        "      ascending += 1\n",
        "      descending = 1\n",
        "    elif(arr[i] < arr[i-1]):\n",
        "      descending += 1\n",
        "      ascending = 1\n",
        "    else:\n",
        "      ascending += 1\n",
        "      descending += 1\n",
        "\n",
        "    if(max(ascending, descending) > maxLength):\n",
        "      maxLength = max(ascending, descending)\n",
        "\n",
        "  print(maxLength)\n",
        "\n",
        "\n",
        "N = int(input(\"수열의 길이 N: \"))\n",
        "\n",
        "arr = list(map(int, input().split()))\n",
        "\n",
        "maxLen(arr)"
      ]
    },
    {
      "cell_type": "markdown",
      "source": [
        "주어진 숫자 범위 내에서 소수를 모두 찾아 반환하는 함수를 작성하시오."
      ],
      "metadata": {
        "id": "lXDUTeEePd6g"
      }
    },
    {
      "cell_type": "code",
      "source": [
        "def prime_factorization(n):\n",
        "    factors = []\n",
        "    divisor = 2\n",
        "\n",
        "    while n > 1:\n",
        "        count = 0\n",
        "        while n % divisor == 0:\n",
        "            n //= divisor\n",
        "            count += 1\n",
        "        if count > 0:\n",
        "            factors.append((divisor, count))\n",
        "        divisor += 1\n",
        "\n",
        "    return factors"
      ],
      "metadata": {
        "id": "ykNYzKilYcw1"
      },
      "execution_count": null,
      "outputs": []
    },
    {
      "cell_type": "code",
      "source": [
        "start_range = 10\n",
        "end_range = 50\n",
        "result_primes = find_primes_in_range(start_range, end_range)\n",
        "print(f\"Primes between {start_range} and {end_range}: {result_primes}\")"
      ],
      "metadata": {
        "id": "5QQ8RdRwPqGu"
      },
      "execution_count": null,
      "outputs": []
    },
    {
      "cell_type": "markdown",
      "source": [
        "숫자를 소인수분해하여 각 소수의 지수를 포함한 형태로 반환하는 함수를 작성"
      ],
      "metadata": {
        "id": "1RXUlp6sYOF6"
      }
    },
    {
      "cell_type": "code",
      "source": [
        "def prime_factorization(n):\n",
        "    factors = []\n",
        "    divisor = 2\n",
        "\n",
        "    while n > 1:\n",
        "        count = 0\n",
        "        while n % divisor == 0:\n",
        "            n //= divisor\n",
        "            count += 1\n",
        "        if count > 0:\n",
        "            factors.append((divisor, count))\n",
        "        divisor += 1\n",
        "\n",
        "    return factors"
      ],
      "metadata": {
        "id": "diORhuO5YiGk"
      },
      "execution_count": null,
      "outputs": []
    },
    {
      "cell_type": "code",
      "source": [
        "number_to_factorize = 126\n",
        "result_prime_factorization = prime_factorization(number_to_factorize)\n",
        "print(f\"Prime factorization of {number_to_factorize}: {result_prime_factorization}\")"
      ],
      "metadata": {
        "id": "JS9MWd0tYVug"
      },
      "execution_count": null,
      "outputs": []
    },
    {
      "cell_type": "markdown",
      "source": [
        "# 시그마 함수\n",
        "\n",
        "### 문제 설명\n",
        "\n",
        "<p>시그마 함수 σ(n)은 정수 n의 약수의 합을 구하는 함수이다. </p>\n",
        "\n",
        "<p>예를 들어, σ(2) = 1+2 = 3이고, σ(6) = 1+2+3+6 = 12, σ(12) = 1+2+3+4+6+12 = 28 이다.</p>\n",
        "\n",
        "<p>m이 주어졌을 때, 1 ≤ n ≤ m인 모든 n의 σ(n) 중에서 값이 짝수인 것이 몇 개 있는지 구하는 프로그램을 작성하시오.</p>\n",
        "\n",
        "### 입력\n",
        "\n",
        " <p>첫째 줄에 m (1 ≤ m ≤ 10^12)이 주어진다.  </p>\n",
        "\n",
        "### 출력\n",
        "\n",
        " <p>첫째 줄에 1 ≤ n ≤ m인 모든 n의 σ(n) 중에서 값이 짝수인 것의 개수를 출력한다.</p>"
      ],
      "metadata": {
        "id": "cnrPYMycZZmX"
      }
    },
    {
      "cell_type": "code",
      "source": [
        "def Sigma(n):\n",
        "    sum = 0\n",
        "    for i in range(1, int(n**(1/2) + 1)):\n",
        "        if(n % i == 0):\n",
        "            sum += i\n",
        "            if(i**2 != n):\n",
        "                sum += n//i\n",
        "    return sum\n",
        "\n",
        "def isEven(m):\n",
        "    numOfEven = 0\n",
        "    for i in range(1, m + 1):\n",
        "        if(Sigma(i) % 2 != 0):\n",
        "            numOfEven += 1\n",
        "    return numOfEven\n",
        "\n",
        "m = int(input())\n",
        "\n",
        "isEven(m)"
      ],
      "metadata": {
        "id": "SFZs6DPWZcb4"
      },
      "execution_count": null,
      "outputs": []
    },
    {
      "cell_type": "markdown",
      "source": [
        "#가로수\n",
        "\n",
        "###문제 설명\n",
        "<p>직선으로 되어있는 도로의 한 편에 가로수가 임의의 간격으로 심어져있다. KOI 시에서는 가로수들이 모두 같은 간격이 되도록 가로수를 추가로 심는 사업을 추진하고 있다. KOI 시에서는 예산문제로 가능한 한 가장 적은 수의 나무를 심고 싶다.</p>\n",
        "\n",
        "<p>편의상 가로수의 위치는 기준점으로 부터 떨어져 있는 거리로 표현되며, 가로수의 위치는 모두 양의 정수이다.</p>\n",
        "\n",
        "<p>예를 들어, 가로수가 (1, 3, 7, 13)의 위치에 있다면 (5, 9, 11)의 위치에 가로수를 더 심으면 모든 가로수들의 간격이 같게 된다. 또한, 가로수가 (2, 6, 12, 18)에 있다면 (4, 8, 10, 14, 16)에 가로수를 더 심어야 한다.</p>\n",
        "\n",
        "<p>심어져 있는 가로수의 위치가 주어질 때, 모든 가로수가 같은 간격이 되도록 새로 심어야 하는 가로수의 최소수를 구하는 프로그램을 작성하라. 단, 추가되는 나무는 기존의 나무들 사이에만 심을 수 있다.</p>\n",
        "\n",
        "###입력\n",
        "첫째 줄에는 이미 심어져 있는 가로수의 수를 나타내는 하나의 정수 N이 주어진다(3 ≤ N ≤ 100,000). 둘째 줄부터 N개의 줄에는 각 줄마다 심어져 있는 가로수의 위치가 양의 정수로 주어지며, 가로수의 위치를 나타내는 정수는 1,000,000,000 이하이다. 가로수의 위치를 나타내는 정수는 모두 다르고, N개의 가로수는 기준점으로부터 떨어진 거리가 가까운 순서대로 주어진다.\n",
        "\n",
        "###출력\n",
        "모든 가로수가 같은 간격이 되도록 새로 심어야 하는 가로수의 최소수를 첫 번째 줄에 출력한다."
      ],
      "metadata": {
        "id": "FoDNr6gwd0M7"
      }
    },
    {
      "cell_type": "code",
      "source": [
        "N = int(input()) #심어진 가로수의 수\n",
        "Tree = int(input()) #첫 번째 나무\n",
        "distance = [] #나무 사이의 간격\n",
        "\n",
        "for i in range(N-1): #입력을 받는 반복문\n",
        "    T = int(input()) #다음 나무\n",
        "    distance.append(T-Tree) #나무 사이 간격 추가\n",
        "    Tree = T #그 다음 나무와 비교를 위해 Tree 변경\n",
        "\n",
        "#이 문제의 핵심은 나무사이 간격의 최대공약수를 구하는 것\n",
        "def gcd(A, B): #A, B 두 수의 최대공약수를 구하는 함수(유클리드 호제법)\n",
        "    if A < B: #유클리드 호제법을 이용하기 위해 A가 큰 수로 두기\n",
        "        temp = A\n",
        "        A = B\n",
        "        B = temp\n",
        "    while A % B: #나머지가 나누어 떨어질 때 B의 값이 최대공약수\n",
        "        r = A % B #나머지가 있는경우 while문이 작동하므로\n",
        "        A = B\n",
        "        B = r\n",
        "    return B\n",
        "\n",
        "Q = gcd(distance[0], distance[1]) #Q는 앞으로 구할 나무간격들 전체의 최대공약수\n",
        "for i in range(2, len(distance)): #나무간격 모두에 대해 최대공약수 구하기\n",
        "    Q = gcd(Q, distance[i])\n",
        "\n",
        "answer = 0\n",
        "for i in range(len(distance)):\n",
        "    answer += distance[i]//Q - 1 #추가해야할 가로수를 더하기\n",
        "\n",
        "print(answer)"
      ],
      "metadata": {
        "id": "2meSpRvUePP6"
      },
      "execution_count": null,
      "outputs": []
    },
    {
      "cell_type": "markdown",
      "source": [
        "\n",
        "#CCW\n",
        "\n",
        "###문제 설명\n",
        "<p>2차원 좌표 평면 위에 있는 점 3개 P1, P2, P3가 주어진다. P1, P2, P3를 순서대로 이은 선분이 어떤 방향을 이루고 있는지 구하는 프로그램을 작성하시오.</p>\n",
        "\n",
        "###입력\n",
        "첫째 줄에 P1의 (x1, y1), 둘째 줄에 P2의 (x2, y2), 셋째 줄에 P3의 (x3, y3)가 주어진다. (-10,000 ≤ x1, y1, x2, y2, x3, y3 ≤ 10,000) 모든 좌표는 정수이다. P1, P2, P3의 좌표는 서로 다르다.\n",
        "\n",
        "###출력\n",
        "P1, P2, P3를 순서대로 이은 선분이 반시계 방향을 나타내면 1, 시계 방향이면 -1, 일직선이면 0을 출력한다."
      ],
      "metadata": {
        "id": "vSGr_WGDeSVx"
      }
    },
    {
      "cell_type": "code",
      "source": [
        "P1_x, P1_y = map(int,input().split())\n",
        "P2_x, P2_y = map(int,input().split())\n",
        "P3_x, P3_y = map(int,input().split())\n",
        "\n",
        "#P1, P2를 이루는 직선을 기준으로 위쪽에 있으면 반시계방향, 아래쪽에 있으면 시계방향이므로 다음식을 통해 확인\n",
        "def l(x): #직선 l의 방정식\n",
        "    y = (x - P1_x) * (P2_y - P1_y) / (P2_x - P1_x) + P1_y\n",
        "    return y\n",
        "\n",
        "if P2_x != P1_x: #0으로 나누어지는 경우는 제외\n",
        "    point = l(P3_x)\n",
        "    if P3_y == point:\n",
        "        print(0)\n",
        "    else:\n",
        "        if P2_x > P1_x:\n",
        "            if P3_y < point:\n",
        "                print(-1)\n",
        "            else:\n",
        "                print(1)\n",
        "        else:\n",
        "            if P3_y < point:\n",
        "                print(1)\n",
        "            else:\n",
        "                print(-1)\n",
        "\n",
        "else: #직선 l이 y축과 평행한 경우 그냥 x값만 확인\n",
        "    if P3_x == P1_x:\n",
        "        print(0)\n",
        "    elif P3_x > P1_x:\n",
        "        print(1)\n",
        "    else:\n",
        "        print(-1)"
      ],
      "metadata": {
        "id": "3e8yVFQLejtQ"
      },
      "execution_count": null,
      "outputs": []
    }
  ]
}