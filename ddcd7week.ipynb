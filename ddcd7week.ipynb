{
  "nbformat": 4,
  "nbformat_minor": 0,
  "metadata": {
    "colab": {
      "provenance": []
    },
    "kernelspec": {
      "name": "python3",
      "display_name": "Python 3"
    },
    "language_info": {
      "name": "python"
    }
  },
  "cells": [
    {
      "cell_type": "markdown",
      "source": [
        "# 수열\n",
        "\n",
        "### 문제 설명\n",
        "\n",
        "<p>0에서부터 9까지의 숫자로 이루어진 N개의 숫자가 나열된 수열이 있다. 그 수열 안에서 연속해서 커지거나(같은 것 포함), 혹은 연속해서 작아지는(같은 것 포함) 수열 중 가장 길이가 긴 것을 찾아내어 그 길이를 출력하는 프로그램을 작성하라. </p>\n",
        "\n",
        "<p>예를 들어 수열 1, 2, 2, 4, 4, 5, 7, 7, 2 의 경우에는 1 ≤ 2 ≤ 2 ≤ 4 ≤ 4 ≤ 5 ≤ 7 ≤ 7 이 가장 긴 구간이 되므로 그 길이 8을 출력한다. 수열 4, 1, 3, 3, 2, 2, 9, 2, 3 의 경우에는 3 ≥ 3 ≥ 2 ≥ 2 가 가장 긴 구간이 되므로 그 길이 4를 출력한다. 또 1, 5, 3, 6, 4, 7, 1, 3, 2, 9, 5 의 경우에는 연속해서 커지거나 작아지는 수열의 길이가 3 이상인 경우가 없으므로 2를 출력하여야 한다.</p>\n",
        "\n",
        "### 입력\n",
        "\n",
        " <p>첫째 줄에는 수열의 길이 N이 주어지고, 둘째 줄에는 N개의 숫자가 빈칸을 사이에 두고 주어진다. N은 1 이상 100,000 이하의 정수이다.</p>\n",
        "\n",
        "### 출력\n",
        "\n",
        " <p>첫째 줄에 가장 긴 길이를 출력한다.</p>\n",
        "\n"
      ],
      "metadata": {
        "id": "n_bUdSGxz7PY"
      }
    },
    {
      "cell_type": "code",
      "execution_count": 37,
      "metadata": {
        "colab": {
          "base_uri": "https://localhost:8080/"
        },
        "id": "iRe2oKOizCjj",
        "outputId": "59807a61-1db7-42e4-b9c0-0d82f053fe2d"
      },
      "outputs": [
        {
          "output_type": "stream",
          "name": "stdout",
          "text": [
            "수열의 길이 N: 10\n",
            "1 1 1 1 1 1 1 1 9 2\n",
            "9\n"
          ]
        }
      ],
      "source": [
        "def maxLen(arr):\n",
        "  ascending = 1\n",
        "  descending = 1\n",
        "  maxLength = 1\n",
        "\n",
        "  for i in range(1, len(arr)):\n",
        "    if(arr[i] > arr[i-1]):\n",
        "      ascending += 1\n",
        "      descending = 1\n",
        "    elif(arr[i] < arr[i-1]):\n",
        "      descending += 1\n",
        "      ascending = 1\n",
        "    else:\n",
        "      ascending += 1\n",
        "      descending += 1\n",
        "\n",
        "    if(max(ascending, descending) > maxLength):\n",
        "      maxLength = max(ascending, descending)\n",
        "\n",
        "  print(maxLength)\n",
        "\n",
        "\n",
        "N = int(input(\"수열의 길이 N: \"))\n",
        "\n",
        "arr = list(map(int, input().split()))\n",
        "\n",
        "maxLen(arr)"
      ]
    }
  ]
}